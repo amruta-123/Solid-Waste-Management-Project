{
 "cells": [
  {
   "cell_type": "code",
   "execution_count": 2,
   "metadata": {},
   "outputs": [],
   "source": [
    "import matplotlib.pyplot as plt\n",
    "import numpy as np\n",
    "import os\n",
    "from PIL import Image\n",
    "import tensorflow as tf\n",
    "from tensorflow import keras\n",
    "from tensorflow.keras import layers\n",
    "from tensorflow.keras.models import Sequential\n",
    "import cv2\n",
    "from tensorflow.keras.preprocessing.image import ImageDataGenerator\n",
    "\n",
    "from tensorflow.keras.preprocessing import image\n",
    "from tensorflow.keras.optimizers import RMSprop,Adam\n",
    "from keras import callbacks\n",
    "import numpy as np\n",
    "from sklearn.metrics import classification_report, confusion_matrix\n",
    "import itertools\n",
    "from keras.models import model_from_json"
   ]
  },
  {
   "cell_type": "code",
   "execution_count": 3,
   "metadata": {},
   "outputs": [
    {
     "name": "stdout",
     "output_type": "stream",
     "text": [
      "resize images in the train folder\n",
      "resize images in the train folder\n",
      "resize images in the val folder\n",
      "resize images in the val folder\n"
     ]
    }
   ],
   "source": [
    "print(\"resize images in the train folder\")\n",
    "folder =\"train/clean/\"\n",
    "#copy_folder=\"images_r/train/nonwaste/\"\n",
    "w = int(224)\n",
    "h = int(224)\n",
    "for i in os.listdir(folder):\n",
    "    file = f\"{folder}/{i}\"\n",
    "    im = Image.open(file)\n",
    "    im = im.resize((w, h), Image.ANTIALIAS)\n",
    "    im.save(file) \n",
    "   \n",
    "print(\"resize images in the train folder\")\n",
    "folder =\"train/waste/\"\n",
    "#copy_folder=\"images_r/train/nonwaste/\"\n",
    "w = int(224)\n",
    "h = int(224)\n",
    "for i in os.listdir(folder):\n",
    "    file = f\"{folder}/{i}\"\n",
    "    im = Image.open(file)\n",
    "    im = im.resize((w, h), Image.ANTIALIAS)\n",
    "    im.save(file)\n",
    "    \n",
    "print(\"resize images in the val folder\")\n",
    "folder =\"validation/waste/\"\n",
    "#copy_folder=\"images_r/train/nonwaste/\"\n",
    "w = int(224)\n",
    "h = int(224)\n",
    "for i in os.listdir(folder):\n",
    "    file = f\"{folder}/{i}\"\n",
    "    im = Image.open(file)\n",
    "    im = im.resize((w, h), Image.ANTIALIAS)\n",
    "    im.save(file)     \n",
    "\n",
    "print(\"resize images in the val folder\")\n",
    "folder =\"validation/clean/\"\n",
    "#copy_folder=\"images_r/train/nonwaste/\"\n",
    "w = int(224)\n",
    "h = int(224)\n",
    "for i in os.listdir(folder):\n",
    "    file = f\"{folder}/{i}\"\n",
    "    im = Image.open(file)\n",
    "    im = im.resize((w, h), Image.ANTIALIAS)\n",
    "    im.save(file)     "
   ]
  },
  {
   "cell_type": "code",
   "execution_count": 4,
   "metadata": {},
   "outputs": [],
   "source": [
    "\n",
    "train_datagen = ImageDataGenerator(\n",
    "        rotation_range=40,\n",
    "        width_shift_range=0.2,\n",
    "        height_shift_range=0.2,\n",
    "        rescale=1./255,\n",
    "        shear_range=0.2,\n",
    "        zoom_range=0.2,\n",
    "        horizontal_flip=True,\n",
    "        fill_mode='nearest')\n"
   ]
  },
  {
   "cell_type": "code",
   "execution_count": 5,
   "metadata": {},
   "outputs": [],
   "source": [
    "validation = ImageDataGenerator(rescale=1/255)\n",
    "test = ImageDataGenerator(rescale=1/255)"
   ]
  },
  {
   "cell_type": "code",
   "execution_count": 6,
   "metadata": {},
   "outputs": [
    {
     "name": "stdout",
     "output_type": "stream",
     "text": [
      "Found 244 images belonging to 2 classes.\n"
     ]
    }
   ],
   "source": [
    "train_ds = train_datagen.flow_from_directory('train/',target_size=(224,224),batch_size=3,class_mode='binary')\n"
   ]
  },
  {
   "cell_type": "code",
   "execution_count": 7,
   "metadata": {},
   "outputs": [
    {
     "name": "stdout",
     "output_type": "stream",
     "text": [
      "Found 51 images belonging to 2 classes.\n"
     ]
    }
   ],
   "source": [
    "validation_ds = validation.flow_from_directory('validation/',target_size=(224,224),batch_size=3,class_mode='binary')\n",
    "#test_ds = validation.flow_from_directory('validation/',target_size=(224,224),batch_size=3,class_mode='binary')"
   ]
  },
  {
   "cell_type": "code",
   "execution_count": 8,
   "metadata": {},
   "outputs": [
    {
     "data": {
      "text/plain": [
       "{'clean': 0, 'waste': 1}"
      ]
     },
     "execution_count": 8,
     "metadata": {},
     "output_type": "execute_result"
    }
   ],
   "source": [
    "train_ds.class_indices"
   ]
  },
  {
   "cell_type": "code",
   "execution_count": 9,
   "metadata": {},
   "outputs": [
    {
     "data": {
      "text/plain": [
       "array([0, 0, 0, 0, 0, 0, 0, 0, 0, 0, 0, 0, 0, 0, 0, 0, 0, 0, 0, 0, 0, 0,\n",
       "       0, 0, 0, 0, 0, 0, 0, 0, 0, 0, 0, 0, 0, 0, 0, 0, 0, 0, 0, 0, 0, 0,\n",
       "       0, 0, 0, 0, 0, 0, 0, 0, 0, 0, 0, 0, 0, 0, 0, 0, 0, 0, 0, 0, 0, 0,\n",
       "       0, 0, 0, 0, 0, 0, 0, 0, 0, 0, 0, 0, 0, 0, 0, 0, 0, 0, 0, 0, 0, 0,\n",
       "       0, 0, 0, 0, 0, 0, 0, 0, 0, 0, 0, 0, 0, 0, 0, 0, 0, 0, 0, 0, 0, 0,\n",
       "       0, 0, 0, 0, 0, 0, 0, 0, 0, 0, 0, 0, 0, 0, 1, 1, 1, 1, 1, 1, 1, 1,\n",
       "       1, 1, 1, 1, 1, 1, 1, 1, 1, 1, 1, 1, 1, 1, 1, 1, 1, 1, 1, 1, 1, 1,\n",
       "       1, 1, 1, 1, 1, 1, 1, 1, 1, 1, 1, 1, 1, 1, 1, 1, 1, 1, 1, 1, 1, 1,\n",
       "       1, 1, 1, 1, 1, 1, 1, 1, 1, 1, 1, 1, 1, 1, 1, 1, 1, 1, 1, 1, 1, 1,\n",
       "       1, 1, 1, 1, 1, 1, 1, 1, 1, 1, 1, 1, 1, 1, 1, 1, 1, 1, 1, 1, 1, 1,\n",
       "       1, 1, 1, 1, 1, 1, 1, 1, 1, 1, 1, 1, 1, 1, 1, 1, 1, 1, 1, 1, 1, 1,\n",
       "       1, 1])"
      ]
     },
     "execution_count": 9,
     "metadata": {},
     "output_type": "execute_result"
    }
   ],
   "source": [
    "train_ds.classes"
   ]
  },
  {
   "cell_type": "code",
   "execution_count": 10,
   "metadata": {},
   "outputs": [],
   "source": [
    "model = tf.keras.models.Sequential([tf.keras.layers.Conv2D(16,(3,3),activation='relu',input_shape=(224,224,3)),\n",
    "                                    tf.keras.layers.MaxPool2D(2,2),\n",
    "\n",
    "                                    tf.keras.layers.Conv2D(32,(3,3),activation='relu'),\n",
    "                                    tf.keras.layers.MaxPool2D(2,2),\n",
    "\n",
    "                                    tf.keras.layers.Conv2D(64,(3,3),activation='relu'),\n",
    "                                    tf.keras.layers.MaxPool2D(2,2),\n",
    "\n",
    "                                    tf.keras.layers.Flatten(),\n",
    "                                    tf.keras.layers.Dense(512,activation='relu'),\n",
    "                                    tf.keras.layers.Dense(1,activation='sigmoid')\n",
    "                                    \n",
    "])"
   ]
  },
  {
   "cell_type": "code",
   "execution_count": 11,
   "metadata": {},
   "outputs": [
    {
     "name": "stdout",
     "output_type": "stream",
     "text": [
      "Model: \"sequential\"\n",
      "_________________________________________________________________\n",
      " Layer (type)                Output Shape              Param #   \n",
      "=================================================================\n",
      " conv2d (Conv2D)             (None, 222, 222, 16)      448       \n",
      "                                                                 \n",
      " max_pooling2d (MaxPooling2D  (None, 111, 111, 16)     0         \n",
      " )                                                               \n",
      "                                                                 \n",
      " conv2d_1 (Conv2D)           (None, 109, 109, 32)      4640      \n",
      "                                                                 \n",
      " max_pooling2d_1 (MaxPooling  (None, 54, 54, 32)       0         \n",
      " 2D)                                                             \n",
      "                                                                 \n",
      " conv2d_2 (Conv2D)           (None, 52, 52, 64)        18496     \n",
      "                                                                 \n",
      " max_pooling2d_2 (MaxPooling  (None, 26, 26, 64)       0         \n",
      " 2D)                                                             \n",
      "                                                                 \n",
      " flatten (Flatten)           (None, 43264)             0         \n",
      "                                                                 \n",
      " dense (Dense)               (None, 512)               22151680  \n",
      "                                                                 \n",
      " dense_1 (Dense)             (None, 1)                 513       \n",
      "                                                                 \n",
      "=================================================================\n",
      "Total params: 22,175,777\n",
      "Trainable params: 22,175,777\n",
      "Non-trainable params: 0\n",
      "_________________________________________________________________\n"
     ]
    }
   ],
   "source": [
    "model.summary()"
   ]
  },
  {
   "cell_type": "code",
   "execution_count": 12,
   "metadata": {},
   "outputs": [
    {
     "name": "stderr",
     "output_type": "stream",
     "text": [
      "C:\\ProgramData\\Anaconda3\\lib\\site-packages\\keras\\optimizer_v2\\adam.py:105: UserWarning: The `lr` argument is deprecated, use `learning_rate` instead.\n",
      "  super(Adam, self).__init__(name, **kwargs)\n"
     ]
    }
   ],
   "source": [
    "model.compile(loss='binary_crossentropy',\n",
    "              optimizer = Adam(lr=0.001),\n",
    "              metrics=['accuracy']\n",
    "             )"
   ]
  },
  {
   "cell_type": "code",
   "execution_count": 13,
   "metadata": {},
   "outputs": [],
   "source": [
    "earlystopping = callbacks.EarlyStopping(monitor =\"val_loss\", \n",
    "                                    mode =\"min\", patience = 5, \n",
    "                                       restore_best_weights = True)"
   ]
  },
  {
   "cell_type": "code",
   "execution_count": 14,
   "metadata": {},
   "outputs": [
    {
     "name": "stdout",
     "output_type": "stream",
     "text": [
      "Epoch 1/30\n",
      "82/82 [==============================] - 28s 320ms/step - loss: 0.6468 - accuracy: 0.7664 - val_loss: 0.1810 - val_accuracy: 0.9412\n",
      "Epoch 2/30\n",
      "82/82 [==============================] - 26s 312ms/step - loss: 0.4578 - accuracy: 0.8852 - val_loss: 0.2872 - val_accuracy: 0.8627\n",
      "Epoch 3/30\n",
      "82/82 [==============================] - 26s 316ms/step - loss: 0.2171 - accuracy: 0.9180 - val_loss: 0.0455 - val_accuracy: 0.9804\n",
      "Epoch 4/30\n",
      "82/82 [==============================] - 26s 314ms/step - loss: 0.0881 - accuracy: 0.9590 - val_loss: 0.0014 - val_accuracy: 1.0000\n",
      "Epoch 5/30\n",
      "82/82 [==============================] - 25s 305ms/step - loss: 0.1166 - accuracy: 0.9631 - val_loss: 0.0175 - val_accuracy: 1.0000\n",
      "Epoch 6/30\n",
      "82/82 [==============================] - 26s 313ms/step - loss: 0.2433 - accuracy: 0.9098 - val_loss: 0.0532 - val_accuracy: 1.0000\n",
      "Epoch 7/30\n",
      "82/82 [==============================] - 26s 312ms/step - loss: 0.0845 - accuracy: 0.9631 - val_loss: 0.0449 - val_accuracy: 0.9608\n",
      "Epoch 8/30\n",
      "82/82 [==============================] - 26s 311ms/step - loss: 0.0978 - accuracy: 0.9508 - val_loss: 0.0136 - val_accuracy: 1.0000\n",
      "Epoch 9/30\n",
      "82/82 [==============================] - 26s 311ms/step - loss: 0.1414 - accuracy: 0.9508 - val_loss: 0.0062 - val_accuracy: 1.0000\n"
     ]
    }
   ],
   "source": [
    "model_fit = model.fit(train_ds,\n",
    "                   epochs=30,batch_size=10,\n",
    "                     validation_data=validation_ds, callbacks =[earlystopping])"
   ]
  },
  {
   "cell_type": "code",
   "execution_count": 15,
   "metadata": {},
   "outputs": [
    {
     "name": "stdout",
     "output_type": "stream",
     "text": [
      "dict_keys(['loss', 'accuracy', 'val_loss', 'val_accuracy'])\n"
     ]
    }
   ],
   "source": [
    "print(model_fit.history.keys())"
   ]
  },
  {
   "cell_type": "code",
   "execution_count": 16,
   "metadata": {},
   "outputs": [
    {
     "data": {
      "image/png": "[encoded data removed]",
      "text/plain": [
       "<Figure size 432x288 with 1 Axes>"
      ]
     },
     "metadata": {
      "needs_background": "light"
     },
     "output_type": "display_data"
    },
    {
     "data": {
      "image/png": "[encoded data removed]",
      "text/plain": [
       "<Figure size 432x288 with 1 Axes>"
      ]
     },
     "metadata": {
      "needs_background": "light"
     },
     "output_type": "display_data"
    }
   ],
   "source": [
    "\n",
    "plt.plot(model_fit.history['accuracy'])\n",
    "plt.plot(model_fit.history['val_accuracy'])\n",
    "plt.title('model accuracy')\n",
    "plt.ylabel('accuracy')\n",
    "plt.xlabel('epoch')\n",
    "plt.legend(['train', 'validation'], loc='upper left')\n",
    "plt.show()\n",
    "\n",
    "plt.plot(model_fit.history['loss'])\n",
    "plt.plot(model_fit.history['val_loss'])\n",
    "plt.title('model loss')\n",
    "plt.ylabel('loss')\n",
    "plt.xlabel('epoch')\n",
    "plt.legend(['train', 'validation'], loc='upper left')\n",
    "plt.show()\n"
   ]
  },
  {
   "cell_type": "code",
   "execution_count": null,
   "metadata": {},
   "outputs": [],
   "source": []
  },
  {
   "cell_type": "code",
   "execution_count": 17,
   "metadata": {},
   "outputs": [
    {
     "name": "stdout",
     "output_type": "stream",
     "text": [
      "Found 64 images belonging to 2 classes.\n"
     ]
    }
   ],
   "source": [
    "test_generator = ImageDataGenerator()\n",
    "\n",
    "test_ds = test_generator.flow_from_directory(directory=r\"./test/\",\n",
    "                                                    target_size=(224, 224),\n",
    "                                                    batch_size=1,\n",
    "                                                    class_mode='binary', shuffle=False)"
   ]
  },
  {
   "cell_type": "code",
   "execution_count": 18,
   "metadata": {},
   "outputs": [
    {
     "name": "stderr",
     "output_type": "stream",
     "text": [
      "C:\\Users\\test\\AppData\\Local\\Temp/ipykernel_14148/192946872.py:4: UserWarning: `Model.predict_generator` is deprecated and will be removed in a future version. Please use `Model.predict`, which supports generators.\n",
      "  Y_pred = model.predict_generator(test_ds,steps=np.ceil(test_ds.samples/test_ds.batch_size),verbose=1,workers=0)\n"
     ]
    },
    {
     "name": "stdout",
     "output_type": "stream",
     "text": [
      "64/64 [==============================] - 8s 113ms/step\n",
      "Confusion Matrix\n",
      "[[18 11]\n",
      " [ 3 32]]\n",
      "Classification Report\n",
      "              precision    recall  f1-score   support\n",
      "\n",
      "       clean       0.86      0.62      0.72        29\n",
      "       waste       0.74      0.91      0.82        35\n",
      "\n",
      "    accuracy                           0.78        64\n",
      "   macro avg       0.80      0.77      0.77        64\n",
      "weighted avg       0.80      0.78      0.77        64\n",
      "\n"
     ]
    }
   ],
   "source": [
    "filenames = test_ds.filenames\n",
    "nb_samples = len(filenames)\n",
    "\n",
    "Y_pred = model.predict_generator(test_ds,steps=np.ceil(test_ds.samples/test_ds.batch_size),verbose=1,workers=0)\n",
    "#y_pred = np.argmax(Y_pred, axis=1)\n",
    "y_pred = np.where(Y_pred>0.5,1,0)\n",
    "#print(y_pred)\n",
    "print('Confusion Matrix')\n",
    "print(confusion_matrix(test_ds.classes, y_pred))\n",
    "print('Classification Report')\n",
    "target_names = test_ds.classes\n",
    "class_labels = list(test_ds.class_indices.keys()) \n",
    "\n",
    "report = classification_report(target_names, y_pred, target_names=class_labels)\n",
    "print(report)"
   ]
  },
  {
   "cell_type": "code",
   "execution_count": null,
   "metadata": {},
   "outputs": [],
   "source": [
    "dir_path = 'test/waste'\n",
    "for i in os.listdir(dir_path):\n",
    "  img = image.load_img(dir_path+'//' + i,target_size=(224,224))\n",
    "  plt.imshow(img)\n",
    "  plt.show()\n",
    "\n",
    "  X=image.img_to_array(img)\n",
    "  X=np.expand_dims(X,axis=0)\n",
    "  images = np.vstack([X])\n",
    "  val = model.predict(images)\n",
    "  if val == 0:\n",
    "    print(\"The given image is clean\")\n",
    "  else:\n",
    "    print(\"The given image is waste\")  "
   ]
  },
  {
   "cell_type": "code",
   "execution_count": 19,
   "metadata": {},
   "outputs": [
    {
     "name": "stdout",
     "output_type": "stream",
     "text": [
      "Saved model.\n"
     ]
    }
   ],
   "source": [
    "model_json_30_78 = model.to_json()\n",
    "with open(\"model30_78.json\", \"w\") as json_file:\n",
    "    json_file.write(model_json_30_78)\n",
    "# serialize weights to HDF5\n",
    "model.save_weights(\"cnn30_78.h5\")\n",
    "print(\"Saved model.\")"
   ]
  },
  {
   "cell_type": "code",
   "execution_count": null,
   "metadata": {},
   "outputs": [],
   "source": [
    "'''\n",
    "json_file = open('model32_98.json', 'r')\n",
    "loaded_model_json = json_file.read()\n",
    "json_file.close()\n",
    "loaded_model = model_from_json(loaded_model_json)\n",
    "# load weights into new model\n",
    "loaded_model.load_weights(\"cnn32_87.h5\")\n",
    "print(\"Loaded model\")\n",
    "'''"
   ]
  },
  {
   "cell_type": "code",
   "execution_count": null,
   "metadata": {},
   "outputs": [],
   "source": [
    "#loaded_model.compile(loss='binary_crossentropy', optimizer='adam', metrics=['accuracy'])"
   ]
  }
 ],
 "metadata": {
  "kernelspec": {
   "display_name": "Python 3 (ipykernel)",
   "language": "python",
   "name": "python3"
  },
  "language_info": {
   "codemirror_mode": {
    "name": "ipython",
    "version": 3
   },
   "file_extension": ".py",
   "mimetype": "text/x-python",
   "name": "python",
   "nbconvert_exporter": "python",
   "pygments_lexer": "ipython3",
   "version": "3.9.7"
  }
 },
 "nbformat": 4,
 "nbformat_minor": 4
}
