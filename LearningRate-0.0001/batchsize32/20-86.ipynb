{
 "cells": [
  {
   "cell_type": "code",
   "execution_count": 2,
   "metadata": {},
   "outputs": [],
   "source": [
    "import matplotlib.pyplot as plt\n",
    "import numpy as np\n",
    "import os\n",
    "from PIL import Image\n",
    "import tensorflow as tf\n",
    "from tensorflow import keras\n",
    "from tensorflow.keras import layers\n",
    "from tensorflow.keras.models import Sequential\n",
    "import cv2\n",
    "from tensorflow.keras.preprocessing.image import ImageDataGenerator\n",
    "\n",
    "from tensorflow.keras.preprocessing import image\n",
    "from tensorflow.keras.optimizers import RMSprop,Adam\n",
    "from keras import callbacks\n",
    "import numpy as np\n",
    "from sklearn.metrics import classification_report, confusion_matrix\n",
    "import itertools\n",
    "from keras.models import model_from_json"
   ]
  },
  {
   "cell_type": "code",
   "execution_count": 3,
   "metadata": {},
   "outputs": [
    {
     "name": "stdout",
     "output_type": "stream",
     "text": [
      "resize images in the train folder\n",
      "resize images in the train folder\n",
      "resize images in the val folder\n",
      "resize images in the val folder\n"
     ]
    }
   ],
   "source": [
    "print(\"resize images in the train folder\")\n",
    "folder =\"train/clean/\"\n",
    "#copy_folder=\"images_r/train/nonwaste/\"\n",
    "w = int(224)\n",
    "h = int(224)\n",
    "for i in os.listdir(folder):\n",
    "    file = f\"{folder}/{i}\"\n",
    "    im = Image.open(file)\n",
    "    im = im.resize((w, h), Image.ANTIALIAS)\n",
    "    im.save(file) \n",
    "   \n",
    "print(\"resize images in the train folder\")\n",
    "folder =\"train/waste/\"\n",
    "#copy_folder=\"images_r/train/nonwaste/\"\n",
    "w = int(224)\n",
    "h = int(224)\n",
    "for i in os.listdir(folder):\n",
    "    file = f\"{folder}/{i}\"\n",
    "    im = Image.open(file)\n",
    "    im = im.resize((w, h), Image.ANTIALIAS)\n",
    "    im.save(file)\n",
    "    \n",
    "print(\"resize images in the val folder\")\n",
    "folder =\"validation/waste/\"\n",
    "#copy_folder=\"images_r/train/nonwaste/\"\n",
    "w = int(224)\n",
    "h = int(224)\n",
    "for i in os.listdir(folder):\n",
    "    file = f\"{folder}/{i}\"\n",
    "    im = Image.open(file)\n",
    "    im = im.resize((w, h), Image.ANTIALIAS)\n",
    "    im.save(file)     \n",
    "\n",
    "print(\"resize images in the val folder\")\n",
    "folder =\"validation/clean/\"\n",
    "#copy_folder=\"images_r/train/nonwaste/\"\n",
    "w = int(224)\n",
    "h = int(224)\n",
    "for i in os.listdir(folder):\n",
    "    file = f\"{folder}/{i}\"\n",
    "    im = Image.open(file)\n",
    "    im = im.resize((w, h), Image.ANTIALIAS)\n",
    "    im.save(file)     "
   ]
  },
  {
   "cell_type": "code",
   "execution_count": 4,
   "metadata": {},
   "outputs": [],
   "source": [
    "\n",
    "train_datagen = ImageDataGenerator(\n",
    "        rotation_range=40,\n",
    "        width_shift_range=0.2,\n",
    "        height_shift_range=0.2,\n",
    "        rescale=1./255,\n",
    "        shear_range=0.2,\n",
    "        zoom_range=0.2,\n",
    "        horizontal_flip=True,\n",
    "        fill_mode='nearest')\n"
   ]
  },
  {
   "cell_type": "code",
   "execution_count": 5,
   "metadata": {},
   "outputs": [],
   "source": [
    "validation = ImageDataGenerator(rescale=1/255)\n",
    "test = ImageDataGenerator(rescale=1/255)"
   ]
  },
  {
   "cell_type": "code",
   "execution_count": 6,
   "metadata": {},
   "outputs": [
    {
     "name": "stdout",
     "output_type": "stream",
     "text": [
      "Found 244 images belonging to 2 classes.\n"
     ]
    }
   ],
   "source": [
    "train_ds = train_datagen.flow_from_directory('train/',target_size=(224,224),batch_size=3,class_mode='binary')\n"
   ]
  },
  {
   "cell_type": "code",
   "execution_count": 7,
   "metadata": {},
   "outputs": [
    {
     "name": "stdout",
     "output_type": "stream",
     "text": [
      "Found 51 images belonging to 2 classes.\n"
     ]
    }
   ],
   "source": [
    "validation_ds = validation.flow_from_directory('validation/',target_size=(224,224),batch_size=3,class_mode='binary')\n",
    "#test_ds = validation.flow_from_directory('validation/',target_size=(224,224),batch_size=3,class_mode='binary')"
   ]
  },
  {
   "cell_type": "code",
   "execution_count": 8,
   "metadata": {},
   "outputs": [
    {
     "data": {
      "text/plain": [
       "{'clean': 0, 'waste': 1}"
      ]
     },
     "execution_count": 8,
     "metadata": {},
     "output_type": "execute_result"
    }
   ],
   "source": [
    "train_ds.class_indices"
   ]
  },
  {
   "cell_type": "code",
   "execution_count": 9,
   "metadata": {},
   "outputs": [
    {
     "data": {
      "text/plain": [
       "array([0, 0, 0, 0, 0, 0, 0, 0, 0, 0, 0, 0, 0, 0, 0, 0, 0, 0, 0, 0, 0, 0,\n",
       "       0, 0, 0, 0, 0, 0, 0, 0, 0, 0, 0, 0, 0, 0, 0, 0, 0, 0, 0, 0, 0, 0,\n",
       "       0, 0, 0, 0, 0, 0, 0, 0, 0, 0, 0, 0, 0, 0, 0, 0, 0, 0, 0, 0, 0, 0,\n",
       "       0, 0, 0, 0, 0, 0, 0, 0, 0, 0, 0, 0, 0, 0, 0, 0, 0, 0, 0, 0, 0, 0,\n",
       "       0, 0, 0, 0, 0, 0, 0, 0, 0, 0, 0, 0, 0, 0, 0, 0, 0, 0, 0, 0, 0, 0,\n",
       "       0, 0, 0, 0, 0, 0, 0, 0, 0, 0, 0, 0, 0, 0, 1, 1, 1, 1, 1, 1, 1, 1,\n",
       "       1, 1, 1, 1, 1, 1, 1, 1, 1, 1, 1, 1, 1, 1, 1, 1, 1, 1, 1, 1, 1, 1,\n",
       "       1, 1, 1, 1, 1, 1, 1, 1, 1, 1, 1, 1, 1, 1, 1, 1, 1, 1, 1, 1, 1, 1,\n",
       "       1, 1, 1, 1, 1, 1, 1, 1, 1, 1, 1, 1, 1, 1, 1, 1, 1, 1, 1, 1, 1, 1,\n",
       "       1, 1, 1, 1, 1, 1, 1, 1, 1, 1, 1, 1, 1, 1, 1, 1, 1, 1, 1, 1, 1, 1,\n",
       "       1, 1, 1, 1, 1, 1, 1, 1, 1, 1, 1, 1, 1, 1, 1, 1, 1, 1, 1, 1, 1, 1,\n",
       "       1, 1])"
      ]
     },
     "execution_count": 9,
     "metadata": {},
     "output_type": "execute_result"
    }
   ],
   "source": [
    "train_ds.classes"
   ]
  },
  {
   "cell_type": "code",
   "execution_count": 10,
   "metadata": {},
   "outputs": [],
   "source": [
    "model = tf.keras.models.Sequential([tf.keras.layers.Conv2D(16,(3,3),activation='relu',input_shape=(224,224,3)),\n",
    "                                    tf.keras.layers.MaxPool2D(2,2),\n",
    "\n",
    "                                    tf.keras.layers.Conv2D(32,(3,3),activation='relu'),\n",
    "                                    tf.keras.layers.MaxPool2D(2,2),\n",
    "\n",
    "                                    tf.keras.layers.Conv2D(64,(3,3),activation='relu'),\n",
    "                                    tf.keras.layers.MaxPool2D(2,2),\n",
    "\n",
    "                                    tf.keras.layers.Flatten(),\n",
    "                                    tf.keras.layers.Dense(512,activation='relu'),\n",
    "                                    tf.keras.layers.Dense(1,activation='sigmoid')\n",
    "                                    \n",
    "])"
   ]
  },
  {
   "cell_type": "code",
   "execution_count": 11,
   "metadata": {},
   "outputs": [
    {
     "name": "stdout",
     "output_type": "stream",
     "text": [
      "Model: \"sequential\"\n",
      "_________________________________________________________________\n",
      " Layer (type)                Output Shape              Param #   \n",
      "=================================================================\n",
      " conv2d (Conv2D)             (None, 222, 222, 16)      448       \n",
      "                                                                 \n",
      " max_pooling2d (MaxPooling2D  (None, 111, 111, 16)     0         \n",
      " )                                                               \n",
      "                                                                 \n",
      " conv2d_1 (Conv2D)           (None, 109, 109, 32)      4640      \n",
      "                                                                 \n",
      " max_pooling2d_1 (MaxPooling  (None, 54, 54, 32)       0         \n",
      " 2D)                                                             \n",
      "                                                                 \n",
      " conv2d_2 (Conv2D)           (None, 52, 52, 64)        18496     \n",
      "                                                                 \n",
      " max_pooling2d_2 (MaxPooling  (None, 26, 26, 64)       0         \n",
      " 2D)                                                             \n",
      "                                                                 \n",
      " flatten (Flatten)           (None, 43264)             0         \n",
      "                                                                 \n",
      " dense (Dense)               (None, 512)               22151680  \n",
      "                                                                 \n",
      " dense_1 (Dense)             (None, 1)                 513       \n",
      "                                                                 \n",
      "=================================================================\n",
      "Total params: 22,175,777\n",
      "Trainable params: 22,175,777\n",
      "Non-trainable params: 0\n",
      "_________________________________________________________________\n"
     ]
    }
   ],
   "source": [
    "model.summary()"
   ]
  },
  {
   "cell_type": "code",
   "execution_count": 12,
   "metadata": {},
   "outputs": [
    {
     "name": "stderr",
     "output_type": "stream",
     "text": [
      "C:\\ProgramData\\Anaconda3\\lib\\site-packages\\keras\\optimizer_v2\\adam.py:105: UserWarning: The `lr` argument is deprecated, use `learning_rate` instead.\n",
      "  super(Adam, self).__init__(name, **kwargs)\n"
     ]
    }
   ],
   "source": [
    "model.compile(loss='binary_crossentropy',\n",
    "              optimizer = Adam(lr=0.0001),\n",
    "              metrics=['accuracy']\n",
    "             )"
   ]
  },
  {
   "cell_type": "code",
   "execution_count": 13,
   "metadata": {},
   "outputs": [],
   "source": [
    "earlystopping = callbacks.EarlyStopping(monitor =\"val_loss\", \n",
    "                                    mode =\"min\", patience = 5, \n",
    "                                       restore_best_weights = True)"
   ]
  },
  {
   "cell_type": "code",
   "execution_count": 14,
   "metadata": {},
   "outputs": [
    {
     "name": "stdout",
     "output_type": "stream",
     "text": [
      "Epoch 1/20\n",
      "82/82 [==============================] - 35s 399ms/step - loss: 0.5930 - accuracy: 0.6557 - val_loss: 0.6657 - val_accuracy: 0.5294\n",
      "Epoch 2/20\n",
      "82/82 [==============================] - 33s 407ms/step - loss: 0.2981 - accuracy: 0.8811 - val_loss: 0.2277 - val_accuracy: 0.8627\n",
      "Epoch 3/20\n",
      "82/82 [==============================] - 34s 420ms/step - loss: 0.1934 - accuracy: 0.9180 - val_loss: 0.0837 - val_accuracy: 0.9608\n",
      "Epoch 4/20\n",
      "82/82 [==============================] - 25s 305ms/step - loss: 0.1832 - accuracy: 0.9098 - val_loss: 0.0279 - val_accuracy: 1.0000\n",
      "Epoch 5/20\n",
      "82/82 [==============================] - 34s 412ms/step - loss: 0.0921 - accuracy: 0.9672 - val_loss: 0.0116 - val_accuracy: 1.0000\n",
      "Epoch 6/20\n",
      "82/82 [==============================] - 34s 408ms/step - loss: 0.0741 - accuracy: 0.9672 - val_loss: 0.0573 - val_accuracy: 0.9804\n",
      "Epoch 7/20\n",
      "82/82 [==============================] - 33s 404ms/step - loss: 0.0914 - accuracy: 0.9713 - val_loss: 0.0671 - val_accuracy: 0.9804\n",
      "Epoch 8/20\n",
      "82/82 [==============================] - 33s 405ms/step - loss: 0.2140 - accuracy: 0.9426 - val_loss: 0.0349 - val_accuracy: 0.9804\n",
      "Epoch 9/20\n",
      "82/82 [==============================] - 33s 400ms/step - loss: 0.0880 - accuracy: 0.9672 - val_loss: 0.0069 - val_accuracy: 1.0000\n",
      "Epoch 10/20\n",
      "82/82 [==============================] - 33s 407ms/step - loss: 0.1382 - accuracy: 0.9590 - val_loss: 0.1231 - val_accuracy: 0.9608\n",
      "Epoch 11/20\n",
      "82/82 [==============================] - 33s 406ms/step - loss: 0.0845 - accuracy: 0.9713 - val_loss: 0.0040 - val_accuracy: 1.0000\n",
      "Epoch 12/20\n",
      "82/82 [==============================] - 33s 402ms/step - loss: 0.0483 - accuracy: 0.9795 - val_loss: 0.0089 - val_accuracy: 1.0000\n",
      "Epoch 13/20\n",
      "82/82 [==============================] - 26s 311ms/step - loss: 0.1128 - accuracy: 0.9467 - val_loss: 0.0207 - val_accuracy: 1.0000\n",
      "Epoch 14/20\n",
      "82/82 [==============================] - 18s 216ms/step - loss: 0.0324 - accuracy: 0.9877 - val_loss: 0.0018 - val_accuracy: 1.0000\n",
      "Epoch 15/20\n",
      "82/82 [==============================] - 18s 218ms/step - loss: 0.0467 - accuracy: 0.9877 - val_loss: 0.0020 - val_accuracy: 1.0000\n",
      "Epoch 16/20\n",
      "82/82 [==============================] - 24s 289ms/step - loss: 0.0284 - accuracy: 0.9918 - val_loss: 8.5003e-04 - val_accuracy: 1.0000\n",
      "Epoch 17/20\n",
      "82/82 [==============================] - 34s 409ms/step - loss: 0.0202 - accuracy: 1.0000 - val_loss: 6.1113e-04 - val_accuracy: 1.0000\n",
      "Epoch 18/20\n",
      "82/82 [==============================] - 34s 407ms/step - loss: 0.0162 - accuracy: 0.9959 - val_loss: 0.0017 - val_accuracy: 1.0000\n",
      "Epoch 19/20\n",
      "82/82 [==============================] - 34s 414ms/step - loss: 0.0278 - accuracy: 0.9877 - val_loss: 4.9775e-04 - val_accuracy: 1.0000\n",
      "Epoch 20/20\n",
      "82/82 [==============================] - 34s 414ms/step - loss: 0.0905 - accuracy: 0.9754 - val_loss: 0.0021 - val_accuracy: 1.0000\n"
     ]
    }
   ],
   "source": [
    "model_fit = model.fit(train_ds,\n",
    "                   epochs=20,batch_size=32,\n",
    "                     validation_data=validation_ds, callbacks =[earlystopping])"
   ]
  },
  {
   "cell_type": "code",
   "execution_count": null,
   "metadata": {},
   "outputs": [],
   "source": [
    "print(model_fit.history.keys())"
   ]
  },
  {
   "cell_type": "code",
   "execution_count": 15,
   "metadata": {},
   "outputs": [
    {
     "data": {
      "image/png": "[encoded data removed]",
      "text/plain": [
       "<Figure size 432x288 with 1 Axes>"
      ]
     },
     "metadata": {
      "needs_background": "light"
     },
     "output_type": "display_data"
    },
    {
     "data": {
      "image/png": "[encoded data removed]",
      "text/plain": [
       "<Figure size 432x288 with 1 Axes>"
      ]
     },
     "metadata": {
      "needs_background": "light"
     },
     "output_type": "display_data"
    }
   ],
   "source": [
    "\n",
    "plt.plot(model_fit.history['accuracy'])\n",
    "plt.plot(model_fit.history['val_accuracy'])\n",
    "plt.title('model accuracy')\n",
    "plt.ylabel('accuracy')\n",
    "plt.xlabel('epoch')\n",
    "plt.legend(['train', 'validation'], loc='upper left')\n",
    "plt.show()\n",
    "\n",
    "plt.plot(model_fit.history['loss'])\n",
    "plt.plot(model_fit.history['val_loss'])\n",
    "plt.title('model loss')\n",
    "plt.ylabel('loss')\n",
    "plt.xlabel('epoch')\n",
    "plt.legend(['train', 'validation'], loc='upper left')\n",
    "plt.show()\n"
   ]
  },
  {
   "cell_type": "code",
   "execution_count": null,
   "metadata": {},
   "outputs": [],
   "source": []
  },
  {
   "cell_type": "code",
   "execution_count": 16,
   "metadata": {},
   "outputs": [
    {
     "name": "stdout",
     "output_type": "stream",
     "text": [
      "Found 64 images belonging to 2 classes.\n"
     ]
    }
   ],
   "source": [
    "test_generator = ImageDataGenerator()\n",
    "\n",
    "test_ds = test_generator.flow_from_directory(directory=r\"./test/\",\n",
    "                                                    target_size=(224, 224),\n",
    "                                                    batch_size=1,\n",
    "                                                    class_mode='binary', shuffle=False)"
   ]
  },
  {
   "cell_type": "code",
   "execution_count": null,
   "metadata": {},
   "outputs": [],
   "source": []
  },
  {
   "cell_type": "code",
   "execution_count": null,
   "metadata": {},
   "outputs": [],
   "source": []
  },
  {
   "cell_type": "code",
   "execution_count": null,
   "metadata": {},
   "outputs": [],
   "source": [
    "#Y_pred = model.predict_generator(test_)\n",
    "#y_pred = np.where(Y_pred>0.5,1,0)\n",
    "#print('Confusion Matrix')\n",
    "#cm = confusion_matrix(test_.classes, y_pred)\n",
    "#print(cm)\n",
    "#plot_confusion_matrix(cm, target_names, title='Confusion Matrix')\n"
   ]
  },
  {
   "cell_type": "code",
   "execution_count": null,
   "metadata": {},
   "outputs": [],
   "source": []
  },
  {
   "cell_type": "code",
   "execution_count": null,
   "metadata": {},
   "outputs": [],
   "source": []
  },
  {
   "cell_type": "code",
   "execution_count": 17,
   "metadata": {},
   "outputs": [
    {
     "name": "stderr",
     "output_type": "stream",
     "text": [
      "C:\\Users\\test\\AppData\\Local\\Temp/ipykernel_13984/192946872.py:4: UserWarning: `Model.predict_generator` is deprecated and will be removed in a future version. Please use `Model.predict`, which supports generators.\n",
      "  Y_pred = model.predict_generator(test_ds,steps=np.ceil(test_ds.samples/test_ds.batch_size),verbose=1,workers=0)\n"
     ]
    },
    {
     "name": "stdout",
     "output_type": "stream",
     "text": [
      "64/64 [==============================] - 9s 137ms/step\n",
      "Confusion Matrix\n",
      "[[25  4]\n",
      " [ 5 30]]\n",
      "Classification Report\n",
      "              precision    recall  f1-score   support\n",
      "\n",
      "       clean       0.83      0.86      0.85        29\n",
      "       waste       0.88      0.86      0.87        35\n",
      "\n",
      "    accuracy                           0.86        64\n",
      "   macro avg       0.86      0.86      0.86        64\n",
      "weighted avg       0.86      0.86      0.86        64\n",
      "\n"
     ]
    }
   ],
   "source": [
    "filenames = test_ds.filenames\n",
    "nb_samples = len(filenames)\n",
    "\n",
    "Y_pred = model.predict_generator(test_ds,steps=np.ceil(test_ds.samples/test_ds.batch_size),verbose=1,workers=0)\n",
    "#y_pred = np.argmax(Y_pred, axis=1)\n",
    "y_pred = np.where(Y_pred>0.5,1,0)\n",
    "#print(y_pred)\n",
    "print('Confusion Matrix')\n",
    "print(confusion_matrix(test_ds.classes, y_pred))\n",
    "print('Classification Report')\n",
    "target_names = test_ds.classes\n",
    "class_labels = list(test_ds.class_indices.keys()) \n",
    "\n",
    "report = classification_report(target_names, y_pred, target_names=class_labels)\n",
    "print(report)"
   ]
  },
  {
   "cell_type": "code",
   "execution_count": null,
   "metadata": {},
   "outputs": [],
   "source": [
    "dir_path = 'test/waste'\n",
    "for i in os.listdir(dir_path):\n",
    "  img = image.load_img(dir_path+'//' + i,target_size=(224,224))\n",
    "  plt.imshow(img)\n",
    "  plt.show()\n",
    "\n",
    "  X=image.img_to_array(img)\n",
    "  X=np.expand_dims(X,axis=0)\n",
    "  images = np.vstack([X])\n",
    "  val = model.predict(images)\n",
    "  if val == 0:\n",
    "    print(\"The given image is clean\")\n",
    "  else:\n",
    "    print(\"The given image is waste\")  "
   ]
  },
  {
   "cell_type": "code",
   "execution_count": 18,
   "metadata": {},
   "outputs": [
    {
     "name": "stdout",
     "output_type": "stream",
     "text": [
      "Saved model.\n"
     ]
    }
   ],
   "source": [
    "model_json_20_86 = model.to_json()\n",
    "with open(\"model20_86.json\", \"w\") as json_file:\n",
    "    json_file.write(model_json_20_86)\n",
    "# serialize weights to HDF5\n",
    "model.save_weights(\"cnn20_86.h5\")\n",
    "print(\"Saved model.\")"
   ]
  },
  {
   "cell_type": "code",
   "execution_count": null,
   "metadata": {},
   "outputs": [],
   "source": [
    "'''\n",
    "json_file = open('model32_98.json', 'r')\n",
    "loaded_model_json = json_file.read()\n",
    "json_file.close()\n",
    "loaded_model = model_from_json(loaded_model_json)\n",
    "# load weights into new model\n",
    "loaded_model.load_weights(\"cnn32_87.h5\")\n",
    "print(\"Loaded model\")\n",
    "'''"
   ]
  },
  {
   "cell_type": "code",
   "execution_count": null,
   "metadata": {},
   "outputs": [],
   "source": [
    "#loaded_model.compile(loss='binary_crossentropy', optimizer='adam', metrics=['accuracy'])"
   ]
  }
 ],
 "metadata": {
  "kernelspec": {
   "display_name": "Python 3 (ipykernel)",
   "language": "python",
   "name": "python3"
  },
  "language_info": {
   "codemirror_mode": {
    "name": "ipython",
    "version": 3
   },
   "file_extension": ".py",
   "mimetype": "text/x-python",
   "name": "python",
   "nbconvert_exporter": "python",
   "pygments_lexer": "ipython3",
   "version": "3.9.7"
  }
 },
 "nbformat": 4,
 "nbformat_minor": 4
}
